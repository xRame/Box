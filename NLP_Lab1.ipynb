{
  "nbformat": 4,
  "nbformat_minor": 0,
  "metadata": {
    "accelerator": "GPU",
    "colab": {
      "name": "NLP_Lab1.ipynb",
      "provenance": [],
      "collapsed_sections": [
        "YeYKT1r_ax7T"
      ],
      "toc_visible": true,
      "include_colab_link": true
    },
    "kernelspec": {
      "display_name": "Python 3",
      "language": "python",
      "name": "python3"
    },
    "language_info": {
      "codemirror_mode": {
        "name": "ipython",
        "version": 3
      },
      "file_extension": ".py",
      "mimetype": "text/x-python",
      "name": "python",
      "nbconvert_exporter": "python",
      "pygments_lexer": "ipython3",
      "version": "3.8.3"
    }
  },
  "cells": [
    {
      "cell_type": "markdown",
      "metadata": {
        "id": "view-in-github",
        "colab_type": "text"
      },
      "source": [
        "<a href=\"https://colab.research.google.com/github/xRame/Box/blob/master/NLP_Lab1.ipynb\" target=\"_parent\"><img src=\"https://colab.research.google.com/assets/colab-badge.svg\" alt=\"Open In Colab\"/></a>"
      ]
    },
    {
      "cell_type": "markdown",
      "metadata": {
        "id": "PL8JKJZQm09f"
      },
      "source": [
        "Source \"train.parquet\" and \"test.parquet\" had been recompressed \n",
        "with engine \"fastparquet\" and compression \"gzip\". \n",
        "Original \"pyarrow\" with \"snappy\" crashes Jupyter )(\n",
        "\"fastparquet\" with \"gzip\" properlly works in Jupyter as well, \n",
        "as in Google Collab"
      ]
    },
    {
      "cell_type": "markdown",
      "metadata": {
        "id": "UugBtosIm09f"
      },
      "source": [
        "# Prerequisites"
      ]
    },
    {
      "cell_type": "code",
      "metadata": {
        "scrolled": true,
        "id": "alPry6CTm09f"
      },
      "source": [
        "!pip install --upgrade numpy pandas matplotlib fastparquet nltk sklearn gensim"
      ],
      "execution_count": null,
      "outputs": []
    },
    {
      "cell_type": "code",
      "metadata": {
        "id": "ZEmbpVDM4wyR"
      },
      "source": [
        "                                import re\n",
        "                                import numpy\n",
        "                                import pandas\n",
        "from    matplotlib              import pyplot\n",
        "                                import fastparquet\n",
        "                                import nltk\n",
        "from    nltk.corpus             import stopwords\n",
        "from    nltk.stem               import WordNetLemmatizer\n",
        "from    nltk.tokenize           import WordPunctTokenizer\n",
        "from    sklearn.preprocessing   import OneHotEncoder\n",
        "from    gensim.models           import Word2Vec"
      ],
      "execution_count": 10,
      "outputs": []
    },
    {
      "cell_type": "code",
      "metadata": {
        "id": "n7ELshjMSWYp"
      },
      "source": [
        "# Use this variable to suppress output\n",
        "DevNull = 0"
      ],
      "execution_count": 11,
      "outputs": []
    },
    {
      "cell_type": "code",
      "metadata": {
        "colab": {
          "base_uri": "https://localhost:8080/"
        },
        "id": "Yi7H3gGZddPv",
        "scrolled": false,
        "outputId": "7a954f73-c084-46b0-f70d-be412844271b"
      },
      "source": [
        "nltk.download('wordnet')\n",
        "nltk.download('stopwords')"
      ],
      "execution_count": 12,
      "outputs": [
        {
          "output_type": "stream",
          "text": [
            "[nltk_data] Downloading package wordnet to /root/nltk_data...\n",
            "[nltk_data]   Package wordnet is already up-to-date!\n",
            "[nltk_data] Downloading package stopwords to /root/nltk_data...\n",
            "[nltk_data]   Package stopwords is already up-to-date!\n"
          ],
          "name": "stderr"
        },
        {
          "output_type": "execute_result",
          "data": {
            "text/plain": [
              "True"
            ]
          },
          "metadata": {
            "tags": []
          },
          "execution_count": 12
        }
      ]
    },
    {
      "cell_type": "code",
      "metadata": {
        "id": "5f6f6SV8ow3s"
      },
      "source": [
        "Path = \"./\""
      ],
      "execution_count": 13,
      "outputs": []
    },
    {
      "cell_type": "code",
      "metadata": {
        "id": "tdFlWQRHm09g"
      },
      "source": [
        "def ReadParquet(FName):\n",
        "    return pandas.read_parquet(FName, engine = 'fastparquet')\n",
        "\n",
        "def SaveParquet(DFrame, FName):\n",
        "    DFrame.to_parquet(FName, engine = 'fastparquet', compression = 'gzip')"
      ],
      "execution_count": 14,
      "outputs": []
    },
    {
      "cell_type": "markdown",
      "metadata": {
        "id": "fUtyVOZHm09g"
      },
      "source": [
        "# Reading source data"
      ]
    },
    {
      "cell_type": "code",
      "metadata": {
        "colab": {
          "base_uri": "https://localhost:8080/"
        },
        "id": "_SXezqFy6RTt",
        "outputId": "b00ec0cf-ce85-4520-ace0-e4fd2a69ce4f"
      },
      "source": [
        "TestDF = ReadParquet(Path + 'test.parquet').reset_index()\n",
        "TestDF.shape"
      ],
      "execution_count": 15,
      "outputs": [
        {
          "output_type": "execute_result",
          "data": {
            "text/plain": [
              "(12000, 4)"
            ]
          },
          "metadata": {
            "tags": []
          },
          "execution_count": 15
        }
      ]
    },
    {
      "cell_type": "code",
      "metadata": {
        "colab": {
          "base_uri": "https://localhost:8080/",
          "height": 371
        },
        "id": "cezttQHV_e8H",
        "outputId": "74347745-8c49-4473-94a9-4b131da917fb"
      },
      "source": [
        "TestDF.head()"
      ],
      "execution_count": 50,
      "outputs": [
        {
          "output_type": "execute_result",
          "data": {
            "text/html": [
              "<div>\n",
              "<style scoped>\n",
              "    .dataframe tbody tr th:only-of-type {\n",
              "        vertical-align: middle;\n",
              "    }\n",
              "\n",
              "    .dataframe tbody tr th {\n",
              "        vertical-align: top;\n",
              "    }\n",
              "\n",
              "    .dataframe thead th {\n",
              "        text-align: right;\n",
              "    }\n",
              "</style>\n",
              "<table border=\"1\" class=\"dataframe\">\n",
              "  <thead>\n",
              "    <tr style=\"text-align: right;\">\n",
              "      <th></th>\n",
              "      <th>Id</th>\n",
              "      <th>Body</th>\n",
              "      <th>Tags</th>\n",
              "      <th>Title</th>\n",
              "      <th>Text</th>\n",
              "      <th>Stop</th>\n",
              "      <th>NumOfStopwords</th>\n",
              "      <th>NumOfTags</th>\n",
              "      <th>NumOfWords</th>\n",
              "      <th>NumOfLetters</th>\n",
              "    </tr>\n",
              "  </thead>\n",
              "  <tbody>\n",
              "    <tr>\n",
              "      <th>0</th>\n",
              "      <td>46785369</td>\n",
              "      <td>I was given a decision tree with sample data i...</td>\n",
              "      <td>&lt;math&gt;&lt;machine-learning&gt;&lt;artificial-intelligen...</td>\n",
              "      <td>Desecion trees ended up with same given tree a...</td>\n",
              "      <td>[given, decision, tree, sample, data, class, s...</td>\n",
              "      <td>[i, was, a, with, in, to, after, the, with, th...</td>\n",
              "      <td>29</td>\n",
              "      <td>5</td>\n",
              "      <td>37</td>\n",
              "      <td>233</td>\n",
              "    </tr>\n",
              "    <tr>\n",
              "      <th>1</th>\n",
              "      <td>38908667</td>\n",
              "      <td>&lt;p&gt;I am moving a test application over to Xcod...</td>\n",
              "      <td>&lt;ios&gt;&lt;swift&gt;&lt;swift3&gt;&lt;xcode8&gt;&lt;nserror&gt;</td>\n",
              "      <td>Value of type 'Error' has no member 'code'</td>\n",
              "      <td>[moving, test, application, xcode, beta, conve...</td>\n",
              "      <td>[p, i, am, a, over, to, and, my, to, i, am, wi...</td>\n",
              "      <td>37</td>\n",
              "      <td>5</td>\n",
              "      <td>56</td>\n",
              "      <td>291</td>\n",
              "    </tr>\n",
              "    <tr>\n",
              "      <th>2</th>\n",
              "      <td>44703012</td>\n",
              "      <td>&lt;p&gt;I would like to be able to perform linting ...</td>\n",
              "      <td>&lt;jenkins&gt;&lt;jenkins-pipeline&gt;</td>\n",
              "      <td>How do I lint Jenkins pipelines from the comma...</td>\n",
              "      <td>[would, like, able, perform, linting, jenkins,...</td>\n",
              "      <td>[p, i, to, be, to, on, and, it, that, is, not,...</td>\n",
              "      <td>24</td>\n",
              "      <td>2</td>\n",
              "      <td>19</td>\n",
              "      <td>118</td>\n",
              "    </tr>\n",
              "    <tr>\n",
              "      <th>3</th>\n",
              "      <td>34910435</td>\n",
              "      <td>&lt;p&gt;I’m using &lt;a href=\"https://github.com/ftlab...</td>\n",
              "      <td>&lt;javascript&gt;&lt;css&gt;&lt;mobile-safari&gt;&lt;fastclick.js&gt;...</td>\n",
              "      <td>Is there a way to prevent fastclick from firin...</td>\n",
              "      <td>[using, href, http, github, com, ftlabs, fastc...</td>\n",
              "      <td>[p, i, m, a, a, on, a, with, because, i, to, t...</td>\n",
              "      <td>66</td>\n",
              "      <td>5</td>\n",
              "      <td>67</td>\n",
              "      <td>382</td>\n",
              "    </tr>\n",
              "    <tr>\n",
              "      <th>4</th>\n",
              "      <td>51632121</td>\n",
              "      <td>I have some 5 Test cases and I want them to ke...</td>\n",
              "      <td>&lt;android&gt;&lt;testing&gt;&lt;appium&gt;&lt;katalon-studio&gt;</td>\n",
              "      <td>How to loop test cases in katalon Studio?</td>\n",
              "      <td>[test, case, want, keep, running, time, order,...</td>\n",
              "      <td>[i, have, some, and, i, them, to, for, in, how...</td>\n",
              "      <td>22</td>\n",
              "      <td>4</td>\n",
              "      <td>24</td>\n",
              "      <td>131</td>\n",
              "    </tr>\n",
              "  </tbody>\n",
              "</table>\n",
              "</div>"
            ],
            "text/plain": [
              "         Id  ... NumOfLetters\n",
              "0  46785369  ...          233\n",
              "1  38908667  ...          291\n",
              "2  44703012  ...          118\n",
              "3  34910435  ...          382\n",
              "4  51632121  ...          131\n",
              "\n",
              "[5 rows x 10 columns]"
            ]
          },
          "metadata": {
            "tags": []
          },
          "execution_count": 50
        }
      ]
    },
    {
      "cell_type": "code",
      "metadata": {
        "colab": {
          "base_uri": "https://localhost:8080/"
        },
        "id": "uRAJZgTd4zXx",
        "outputId": "9adc601e-0beb-4852-b0b5-32e90cac08d8"
      },
      "source": [
        "TrainDF = ReadParquet(Path + 'train.parquet').reset_index()\n",
        "TrainDF.shape"
      ],
      "execution_count": 16,
      "outputs": [
        {
          "output_type": "execute_result",
          "data": {
            "text/plain": [
              "(48000, 5)"
            ]
          },
          "metadata": {
            "tags": []
          },
          "execution_count": 16
        }
      ]
    },
    {
      "cell_type": "code",
      "metadata": {
        "colab": {
          "base_uri": "https://localhost:8080/",
          "height": 198
        },
        "id": "sfLLZcii_iu3",
        "outputId": "9a8e8e60-cffb-48b7-c481-7db508b9f097"
      },
      "source": [
        "TrainDF.head()"
      ],
      "execution_count": 19,
      "outputs": [
        {
          "output_type": "execute_result",
          "data": {
            "text/html": [
              "<div>\n",
              "<style scoped>\n",
              "    .dataframe tbody tr th:only-of-type {\n",
              "        vertical-align: middle;\n",
              "    }\n",
              "\n",
              "    .dataframe tbody tr th {\n",
              "        vertical-align: top;\n",
              "    }\n",
              "\n",
              "    .dataframe thead th {\n",
              "        text-align: right;\n",
              "    }\n",
              "</style>\n",
              "<table border=\"1\" class=\"dataframe\">\n",
              "  <thead>\n",
              "    <tr style=\"text-align: right;\">\n",
              "      <th></th>\n",
              "      <th>Id</th>\n",
              "      <th>Body</th>\n",
              "      <th>Tags</th>\n",
              "      <th>Title</th>\n",
              "      <th>target</th>\n",
              "    </tr>\n",
              "  </thead>\n",
              "  <tbody>\n",
              "    <tr>\n",
              "      <th>0</th>\n",
              "      <td>34862324</td>\n",
              "      <td>Algorithmm:\\r\\n\\r\\n**input :** Graph G\\r\\n\\r\\n...</td>\n",
              "      <td>&lt;java&gt;&lt;algorithm&gt;&lt;graph-algorithm&gt;</td>\n",
              "      <td>I am implementing a Minimum Spanning Forrest a...</td>\n",
              "      <td>2</td>\n",
              "    </tr>\n",
              "    <tr>\n",
              "      <th>1</th>\n",
              "      <td>47303682</td>\n",
              "      <td>While converting the data frame to HTML, Date ...</td>\n",
              "      <td>&lt;html&gt;&lt;r&gt;&lt;dataframe&gt;</td>\n",
              "      <td>R Studio: Date is getting converted to number,...</td>\n",
              "      <td>2</td>\n",
              "    </tr>\n",
              "    <tr>\n",
              "      <th>2</th>\n",
              "      <td>46431243</td>\n",
              "      <td>&lt;p&gt;This should be an easy one, but somehow I c...</td>\n",
              "      <td>&lt;python&gt;&lt;pandas&gt;&lt;dataframe&gt;&lt;pandas-groupby&gt;</td>\n",
              "      <td>Pandas - dataframe groupby - how to get sum of...</td>\n",
              "      <td>0</td>\n",
              "    </tr>\n",
              "    <tr>\n",
              "      <th>3</th>\n",
              "      <td>45306324</td>\n",
              "      <td>&lt;p&gt;Let say I have a component in Angular 2 tha...</td>\n",
              "      <td>&lt;angular&gt;&lt;typescript&gt;&lt;rxjs&gt;</td>\n",
              "      <td>Casting results from Observable.forkJoin to th...</td>\n",
              "      <td>0</td>\n",
              "    </tr>\n",
              "    <tr>\n",
              "      <th>4</th>\n",
              "      <td>49479547</td>\n",
              "      <td>&lt;p&gt;I'm setting a var using \\n&lt;code&gt;set TEST_VA...</td>\n",
              "      <td>&lt;c&gt;&lt;windows&gt;&lt;batch-file&gt;</td>\n",
              "      <td>Environment variable set in batch file cannot ...</td>\n",
              "      <td>1</td>\n",
              "    </tr>\n",
              "  </tbody>\n",
              "</table>\n",
              "</div>"
            ],
            "text/plain": [
              "         Id  ... target\n",
              "0  34862324  ...      2\n",
              "1  47303682  ...      2\n",
              "2  46431243  ...      0\n",
              "3  45306324  ...      0\n",
              "4  49479547  ...      1\n",
              "\n",
              "[5 rows x 5 columns]"
            ]
          },
          "metadata": {
            "tags": []
          },
          "execution_count": 19
        }
      ]
    },
    {
      "cell_type": "code",
      "metadata": {
        "id": "NTc9WG4aMqaM"
      },
      "source": [
        "DevNull = TrainDF[\"target\"].value_counts().plot.pie(subplots = True, legend = True, autopct = '%2.3f%%', title = \"Отношение классов\")"
      ],
      "execution_count": null,
      "outputs": []
    },
    {
      "cell_type": "markdown",
      "metadata": {
        "id": "1IMSjkq868c3"
      },
      "source": [
        "# Preprocessing data"
      ]
    },
    {
      "cell_type": "markdown",
      "metadata": {
        "id": "b5S1fZySXiMG"
      },
      "source": [
        "## Removing punctuation and extra spaces"
      ]
    },
    {
      "cell_type": "code",
      "metadata": {
        "colab": {
          "base_uri": "https://localhost:8080/",
          "height": 72
        },
        "id": "1GX6oide6eox",
        "outputId": "49f22313-5bc6-4433-965a-8c447c058250"
      },
      "source": [
        "TestDF[\"Text\"] = TestDF.Body + \" \" + TestDF.Tags + \" \" + TestDF.Title\n",
        "TestDF[\"Text\"] = TestDF[\"Text\"].apply(lambda text: re.sub(r'[^(a-zA-Z)\\s]', ' ', text))\n",
        "TestDF[\"Text\"] = TestDF[\"Text\"].apply(lambda text: re.sub('^\\s+|\\n|\\r|\\s+$', ' ', text))\n",
        "TestDF[\"Text\"] = TestDF[\"Text\"].apply(lambda text: re.sub('\\ {2,}', ' ', text))\n",
        "TestDF[\"Text\"][0]"
      ],
      "execution_count": 18,
      "outputs": [
        {
          "output_type": "execute_result",
          "data": {
            "application/vnd.google.colaboratory.intrinsic+json": {
              "type": "string"
            },
            "text/plain": [
              "'I was given a decision tree with sample data in class to solve After computing the gaining splitting tree with the sample data provided I ended up with the same tree that was in the question What does that mean Can someone explain what happened there math machine learning artificial intelligence decision tree entropy Desecion trees ended up with same given tree after gain split computation '"
            ]
          },
          "metadata": {
            "tags": []
          },
          "execution_count": 18
        }
      ]
    },
    {
      "cell_type": "code",
      "metadata": {
        "colab": {
          "base_uri": "https://localhost:8080/",
          "height": 90
        },
        "id": "rRdiN8iVDosU",
        "outputId": "781592a1-545d-488d-e8cc-68ec94e7f552"
      },
      "source": [
        "TrainDF[\"Text\"] = TrainDF.Body + \" \" + TrainDF.Tags + \" \" + TrainDF.Title\n",
        "TrainDF[\"Text\"] = TrainDF[\"Text\"].apply(lambda text: re.sub(r'[^(a-zA-Z)\\s]', ' ', text))\n",
        "TrainDF[\"Text\"] = TrainDF[\"Text\"].apply(lambda text: re.sub('^\\s+|\\n|\\r|\\s+$', ' ', text))\n",
        "TrainDF[\"Text\"] = TrainDF[\"Text\"].apply(lambda text: re.sub('\\ {2,}', ' ', text))\n",
        "TrainDF[\"Text\"][0]"
      ],
      "execution_count": 19,
      "outputs": [
        {
          "output_type": "execute_result",
          "data": {
            "application/vnd.google.colaboratory.intrinsic+json": {
              "type": "string"
            },
            "text/plain": [
              "'Algorithmm input Graph G output Set of MSTs T begin T null E G Edges for all vertices in G Create a tree t having single vertex b add t to T end for repeat Find an edge e E having minimum weight such that one end belongs to t T and the other end does not belongs to any of the trees in T Add e to t until e NULL I m stuck on the logic for the highlighted block I ve used simple objects for vertex edge and tree And for their sets used array of Objects java algorithm graph algorithm I am implementing a Minimum Spanning Forrest algorihm in java But stuck on how to write a loop'"
            ]
          },
          "metadata": {
            "tags": []
          },
          "execution_count": 19
        }
      ]
    },
    {
      "cell_type": "markdown",
      "metadata": {
        "id": "zMGPsBu8XnSN"
      },
      "source": [
        "## Checking for invalid values (NA and Null)"
      ]
    },
    {
      "cell_type": "code",
      "metadata": {
        "colab": {
          "base_uri": "https://localhost:8080/"
        },
        "id": "c1EbZhHtOBAt",
        "outputId": "74012dd7-42f4-4684-bb34-179a0eaa33d2"
      },
      "source": [
        "print(\"TestDF:\")\n",
        "print(\" ID:\")\n",
        "print(\"  NA = \" + str(TestDF[\"Id\"].isna().sum()))\n",
        "print(\"  Null = \" + str(TestDF[\"Id\"].isnull().sum()))"
      ],
      "execution_count": 20,
      "outputs": [
        {
          "output_type": "stream",
          "text": [
            "TestDF:\n",
            " ID:\n",
            "  NA = 0\n",
            "  Null = 0\n"
          ],
          "name": "stdout"
        }
      ]
    },
    {
      "cell_type": "code",
      "metadata": {
        "colab": {
          "base_uri": "https://localhost:8080/"
        },
        "id": "mDq32oHnPVtO",
        "outputId": "ded2f4c3-e7d1-4dca-a81c-34f61deb28e7"
      },
      "source": [
        "print(\"TrainDF:\")\n",
        "print(\" ID:\")\n",
        "print(\"  NA = \" + str(TrainDF[\"Id\"].isna().sum()))\n",
        "print(\"  Null = \" + str(TrainDF[\"Id\"].isnull().sum()))\n",
        "print(\" target:\")\n",
        "print(\"  NA = \" + str(TrainDF[\"target\"].isna().sum()))\n",
        "print(\"  Null = \" + str(TrainDF[\"target\"].isnull().sum()))"
      ],
      "execution_count": 21,
      "outputs": [
        {
          "output_type": "stream",
          "text": [
            "TrainDF:\n",
            " ID:\n",
            "  NA = 0\n",
            "  Null = 0\n",
            " target:\n",
            "  NA = 0\n",
            "  Null = 0\n"
          ],
          "name": "stdout"
        }
      ]
    },
    {
      "cell_type": "markdown",
      "metadata": {
        "id": "XwnEMckrQxEC"
      },
      "source": [
        "No invalid values :)"
      ]
    },
    {
      "cell_type": "markdown",
      "metadata": {
        "id": "3AmusBpIXyQ_"
      },
      "source": [
        "## Tokenizing"
      ]
    },
    {
      "cell_type": "code",
      "metadata": {
        "colab": {
          "base_uri": "https://localhost:8080/"
        },
        "id": "ACew-PCGX1fd",
        "outputId": "0a9cb27f-dcb2-4c11-edb9-7c9607d82538"
      },
      "source": [
        "Tokenizer = WordPunctTokenizer()\n",
        "TestDF[\"Text\"] = TestDF[\"Text\"].apply(lambda text: Tokenizer.tokenize(text.lower()))\n",
        "TestDF[\"Text\"].head()"
      ],
      "execution_count": 22,
      "outputs": [
        {
          "output_type": "execute_result",
          "data": {
            "text/plain": [
              "0    [i, was, given, a, decision, tree, with, sampl...\n",
              "1    [p, i, am, moving, a, test, application, over,...\n",
              "2    [p, i, would, like, to, be, able, to, perform,...\n",
              "3    [p, i, m, using, a, href, https, github, com, ...\n",
              "4    [i, have, some, test, cases, and, i, want, the...\n",
              "Name: Text, dtype: object"
            ]
          },
          "metadata": {
            "tags": []
          },
          "execution_count": 22
        }
      ]
    },
    {
      "cell_type": "code",
      "metadata": {
        "colab": {
          "base_uri": "https://localhost:8080/"
        },
        "id": "C0SnVeVAZ9TE",
        "outputId": "4054f079-2ec7-4bb2-c324-0699cd0e73a4"
      },
      "source": [
        "TrainDF[\"Text\"] = TrainDF[\"Text\"].apply(lambda text: Tokenizer.tokenize(text.lower()))\n",
        "TrainDF[\"Text\"].head()"
      ],
      "execution_count": 23,
      "outputs": [
        {
          "output_type": "execute_result",
          "data": {
            "text/plain": [
              "0    [algorithmm, input, graph, g, output, set, of,...\n",
              "1    [while, converting, the, data, frame, to, html...\n",
              "2    [p, this, should, be, an, easy, one, but, some...\n",
              "3    [p, let, say, i, have, a, component, in, angul...\n",
              "4    [p, i, m, setting, a, var, using, code, set, t...\n",
              "Name: Text, dtype: object"
            ]
          },
          "metadata": {
            "tags": []
          },
          "execution_count": 23
        }
      ]
    },
    {
      "cell_type": "markdown",
      "metadata": {
        "id": "6MhtDCxlaSBG"
      },
      "source": [
        "## Counting and removing stop words"
      ]
    },
    {
      "cell_type": "code",
      "metadata": {
        "id": "xN9VGKeyGORs"
      },
      "source": [
        "# Length of word must be greater than \"2\". No explanation, just intuition :)\n",
        "def GetStopwords(text):\n",
        "    StopWords = []\n",
        "    for w in text:\n",
        "        if (w in stopwords.words(\"english\")) or (len(w) <= 2):\n",
        "            StopWords.append(w)\n",
        "    return StopWords\n",
        "\n",
        "def RemoveStopwords(text):\n",
        "    PureWords = []\n",
        "    for w in text:\n",
        "        if w not in stopwords.words(\"english\") and len(w) > 2:\n",
        "            PureWords.append(w)\n",
        "    return PureWords"
      ],
      "execution_count": 24,
      "outputs": []
    },
    {
      "cell_type": "code",
      "metadata": {
        "colab": {
          "base_uri": "https://localhost:8080/",
          "height": 413
        },
        "id": "Jz-vwqinGQFy",
        "outputId": "5358e576-9bab-4c27-a828-7519327f75af"
      },
      "source": [
        "TestDF[\"Stop\"] = TestDF[\"Text\"].apply(GetStopwords)\n",
        "TestDF[\"NumOfStopwords\"] = TestDF[\"Stop\"].apply(lambda text: len(text))\n",
        "TestDF[\"Text\"] = TestDF[\"Text\"].apply(RemoveStopwords)\n",
        "TestDF.head()"
      ],
      "execution_count": 25,
      "outputs": [
        {
          "output_type": "error",
          "ename": "KeyboardInterrupt",
          "evalue": "ignored",
          "traceback": [
            "\u001b[0;31m---------------------------------------------------------------------------\u001b[0m",
            "\u001b[0;31mKeyboardInterrupt\u001b[0m                         Traceback (most recent call last)",
            "\u001b[0;32m<ipython-input-25-92b97983dd1d>\u001b[0m in \u001b[0;36m<module>\u001b[0;34m()\u001b[0m\n\u001b[0;32m----> 1\u001b[0;31m \u001b[0mTestDF\u001b[0m\u001b[0;34m[\u001b[0m\u001b[0;34m\"Stop\"\u001b[0m\u001b[0;34m]\u001b[0m \u001b[0;34m=\u001b[0m \u001b[0mTestDF\u001b[0m\u001b[0;34m[\u001b[0m\u001b[0;34m\"Text\"\u001b[0m\u001b[0;34m]\u001b[0m\u001b[0;34m.\u001b[0m\u001b[0mapply\u001b[0m\u001b[0;34m(\u001b[0m\u001b[0mGetStopwords\u001b[0m\u001b[0;34m)\u001b[0m\u001b[0;34m\u001b[0m\u001b[0;34m\u001b[0m\u001b[0m\n\u001b[0m\u001b[1;32m      2\u001b[0m \u001b[0mTestDF\u001b[0m\u001b[0;34m[\u001b[0m\u001b[0;34m\"NumOfStopwords\"\u001b[0m\u001b[0;34m]\u001b[0m \u001b[0;34m=\u001b[0m \u001b[0mTestDF\u001b[0m\u001b[0;34m[\u001b[0m\u001b[0;34m\"Stop\"\u001b[0m\u001b[0;34m]\u001b[0m\u001b[0;34m.\u001b[0m\u001b[0mapply\u001b[0m\u001b[0;34m(\u001b[0m\u001b[0;32mlambda\u001b[0m \u001b[0mtext\u001b[0m\u001b[0;34m:\u001b[0m \u001b[0mlen\u001b[0m\u001b[0;34m(\u001b[0m\u001b[0mtext\u001b[0m\u001b[0;34m)\u001b[0m\u001b[0;34m)\u001b[0m\u001b[0;34m\u001b[0m\u001b[0;34m\u001b[0m\u001b[0m\n\u001b[1;32m      3\u001b[0m \u001b[0mTestDF\u001b[0m\u001b[0;34m[\u001b[0m\u001b[0;34m\"Text\"\u001b[0m\u001b[0;34m]\u001b[0m \u001b[0;34m=\u001b[0m \u001b[0mTestDF\u001b[0m\u001b[0;34m[\u001b[0m\u001b[0;34m\"Text\"\u001b[0m\u001b[0;34m]\u001b[0m\u001b[0;34m.\u001b[0m\u001b[0mapply\u001b[0m\u001b[0;34m(\u001b[0m\u001b[0mRemoveStopwords\u001b[0m\u001b[0;34m)\u001b[0m\u001b[0;34m\u001b[0m\u001b[0;34m\u001b[0m\u001b[0m\n\u001b[1;32m      4\u001b[0m \u001b[0mTestDF\u001b[0m\u001b[0;34m.\u001b[0m\u001b[0mhead\u001b[0m\u001b[0;34m(\u001b[0m\u001b[0;34m)\u001b[0m\u001b[0;34m\u001b[0m\u001b[0;34m\u001b[0m\u001b[0m\n",
            "\u001b[0;32m/usr/local/lib/python3.6/dist-packages/pandas/core/series.py\u001b[0m in \u001b[0;36mapply\u001b[0;34m(self, func, convert_dtype, args, **kwds)\u001b[0m\n\u001b[1;32m   4210\u001b[0m             \u001b[0;32melse\u001b[0m\u001b[0;34m:\u001b[0m\u001b[0;34m\u001b[0m\u001b[0;34m\u001b[0m\u001b[0m\n\u001b[1;32m   4211\u001b[0m                 \u001b[0mvalues\u001b[0m \u001b[0;34m=\u001b[0m \u001b[0mself\u001b[0m\u001b[0;34m.\u001b[0m\u001b[0mastype\u001b[0m\u001b[0;34m(\u001b[0m\u001b[0mobject\u001b[0m\u001b[0;34m)\u001b[0m\u001b[0;34m.\u001b[0m\u001b[0m_values\u001b[0m\u001b[0;34m\u001b[0m\u001b[0;34m\u001b[0m\u001b[0m\n\u001b[0;32m-> 4212\u001b[0;31m                 \u001b[0mmapped\u001b[0m \u001b[0;34m=\u001b[0m \u001b[0mlib\u001b[0m\u001b[0;34m.\u001b[0m\u001b[0mmap_infer\u001b[0m\u001b[0;34m(\u001b[0m\u001b[0mvalues\u001b[0m\u001b[0;34m,\u001b[0m \u001b[0mf\u001b[0m\u001b[0;34m,\u001b[0m \u001b[0mconvert\u001b[0m\u001b[0;34m=\u001b[0m\u001b[0mconvert_dtype\u001b[0m\u001b[0;34m)\u001b[0m\u001b[0;34m\u001b[0m\u001b[0;34m\u001b[0m\u001b[0m\n\u001b[0m\u001b[1;32m   4213\u001b[0m \u001b[0;34m\u001b[0m\u001b[0m\n\u001b[1;32m   4214\u001b[0m         \u001b[0;32mif\u001b[0m \u001b[0mlen\u001b[0m\u001b[0;34m(\u001b[0m\u001b[0mmapped\u001b[0m\u001b[0;34m)\u001b[0m \u001b[0;32mand\u001b[0m \u001b[0misinstance\u001b[0m\u001b[0;34m(\u001b[0m\u001b[0mmapped\u001b[0m\u001b[0;34m[\u001b[0m\u001b[0;36m0\u001b[0m\u001b[0;34m]\u001b[0m\u001b[0;34m,\u001b[0m \u001b[0mSeries\u001b[0m\u001b[0;34m)\u001b[0m\u001b[0;34m:\u001b[0m\u001b[0;34m\u001b[0m\u001b[0;34m\u001b[0m\u001b[0m\n",
            "\u001b[0;32mpandas/_libs/lib.pyx\u001b[0m in \u001b[0;36mpandas._libs.lib.map_infer\u001b[0;34m()\u001b[0m\n",
            "\u001b[0;32m<ipython-input-24-5d4def7b3b50>\u001b[0m in \u001b[0;36mGetStopwords\u001b[0;34m(text)\u001b[0m\n\u001b[1;32m      3\u001b[0m     \u001b[0mStopWords\u001b[0m \u001b[0;34m=\u001b[0m \u001b[0;34m[\u001b[0m\u001b[0;34m]\u001b[0m\u001b[0;34m\u001b[0m\u001b[0;34m\u001b[0m\u001b[0m\n\u001b[1;32m      4\u001b[0m     \u001b[0;32mfor\u001b[0m \u001b[0mw\u001b[0m \u001b[0;32min\u001b[0m \u001b[0mtext\u001b[0m\u001b[0;34m:\u001b[0m\u001b[0;34m\u001b[0m\u001b[0;34m\u001b[0m\u001b[0m\n\u001b[0;32m----> 5\u001b[0;31m         \u001b[0;32mif\u001b[0m \u001b[0;34m(\u001b[0m\u001b[0mw\u001b[0m \u001b[0;32min\u001b[0m \u001b[0mstopwords\u001b[0m\u001b[0;34m.\u001b[0m\u001b[0mwords\u001b[0m\u001b[0;34m(\u001b[0m\u001b[0;34m\"english\"\u001b[0m\u001b[0;34m)\u001b[0m\u001b[0;34m)\u001b[0m \u001b[0;32mor\u001b[0m \u001b[0;34m(\u001b[0m\u001b[0mlen\u001b[0m\u001b[0;34m(\u001b[0m\u001b[0mw\u001b[0m\u001b[0;34m)\u001b[0m \u001b[0;34m<=\u001b[0m \u001b[0;36m2\u001b[0m\u001b[0;34m)\u001b[0m\u001b[0;34m:\u001b[0m\u001b[0;34m\u001b[0m\u001b[0;34m\u001b[0m\u001b[0m\n\u001b[0m\u001b[1;32m      6\u001b[0m             \u001b[0mStopWords\u001b[0m\u001b[0;34m.\u001b[0m\u001b[0mappend\u001b[0m\u001b[0;34m(\u001b[0m\u001b[0mw\u001b[0m\u001b[0;34m)\u001b[0m\u001b[0;34m\u001b[0m\u001b[0;34m\u001b[0m\u001b[0m\n\u001b[1;32m      7\u001b[0m     \u001b[0;32mreturn\u001b[0m \u001b[0mStopWords\u001b[0m\u001b[0;34m\u001b[0m\u001b[0;34m\u001b[0m\u001b[0m\n",
            "\u001b[0;32m/usr/local/lib/python3.6/dist-packages/nltk/corpus/reader/wordlist.py\u001b[0m in \u001b[0;36mwords\u001b[0;34m(self, fileids, ignore_lines_startswith)\u001b[0m\n\u001b[1;32m     21\u001b[0m         return [\n\u001b[1;32m     22\u001b[0m             \u001b[0mline\u001b[0m\u001b[0;34m\u001b[0m\u001b[0;34m\u001b[0m\u001b[0m\n\u001b[0;32m---> 23\u001b[0;31m             \u001b[0;32mfor\u001b[0m \u001b[0mline\u001b[0m \u001b[0;32min\u001b[0m \u001b[0mline_tokenize\u001b[0m\u001b[0;34m(\u001b[0m\u001b[0mself\u001b[0m\u001b[0;34m.\u001b[0m\u001b[0mraw\u001b[0m\u001b[0;34m(\u001b[0m\u001b[0mfileids\u001b[0m\u001b[0;34m)\u001b[0m\u001b[0;34m)\u001b[0m\u001b[0;34m\u001b[0m\u001b[0;34m\u001b[0m\u001b[0m\n\u001b[0m\u001b[1;32m     24\u001b[0m             \u001b[0;32mif\u001b[0m \u001b[0;32mnot\u001b[0m \u001b[0mline\u001b[0m\u001b[0;34m.\u001b[0m\u001b[0mstartswith\u001b[0m\u001b[0;34m(\u001b[0m\u001b[0mignore_lines_startswith\u001b[0m\u001b[0;34m)\u001b[0m\u001b[0;34m\u001b[0m\u001b[0;34m\u001b[0m\u001b[0m\n\u001b[1;32m     25\u001b[0m         ]\n",
            "\u001b[0;32m/usr/local/lib/python3.6/dist-packages/nltk/tokenize/simple.py\u001b[0m in \u001b[0;36mline_tokenize\u001b[0;34m(text, blanklines)\u001b[0m\n\u001b[1;32m    138\u001b[0m \u001b[0;34m\u001b[0m\u001b[0m\n\u001b[1;32m    139\u001b[0m \u001b[0;32mdef\u001b[0m \u001b[0mline_tokenize\u001b[0m\u001b[0;34m(\u001b[0m\u001b[0mtext\u001b[0m\u001b[0;34m,\u001b[0m \u001b[0mblanklines\u001b[0m\u001b[0;34m=\u001b[0m\u001b[0;34m\"discard\"\u001b[0m\u001b[0;34m)\u001b[0m\u001b[0;34m:\u001b[0m\u001b[0;34m\u001b[0m\u001b[0;34m\u001b[0m\u001b[0m\n\u001b[0;32m--> 140\u001b[0;31m     \u001b[0;32mreturn\u001b[0m \u001b[0mLineTokenizer\u001b[0m\u001b[0;34m(\u001b[0m\u001b[0mblanklines\u001b[0m\u001b[0;34m)\u001b[0m\u001b[0;34m.\u001b[0m\u001b[0mtokenize\u001b[0m\u001b[0;34m(\u001b[0m\u001b[0mtext\u001b[0m\u001b[0;34m)\u001b[0m\u001b[0;34m\u001b[0m\u001b[0;34m\u001b[0m\u001b[0m\n\u001b[0m",
            "\u001b[0;32m/usr/local/lib/python3.6/dist-packages/nltk/tokenize/simple.py\u001b[0m in \u001b[0;36mtokenize\u001b[0;34m(self, s)\u001b[0m\n\u001b[1;32m    112\u001b[0m \u001b[0;34m\u001b[0m\u001b[0m\n\u001b[1;32m    113\u001b[0m     \u001b[0;32mdef\u001b[0m \u001b[0mtokenize\u001b[0m\u001b[0;34m(\u001b[0m\u001b[0mself\u001b[0m\u001b[0;34m,\u001b[0m \u001b[0ms\u001b[0m\u001b[0;34m)\u001b[0m\u001b[0;34m:\u001b[0m\u001b[0;34m\u001b[0m\u001b[0;34m\u001b[0m\u001b[0m\n\u001b[0;32m--> 114\u001b[0;31m         \u001b[0mlines\u001b[0m \u001b[0;34m=\u001b[0m \u001b[0ms\u001b[0m\u001b[0;34m.\u001b[0m\u001b[0msplitlines\u001b[0m\u001b[0;34m(\u001b[0m\u001b[0;34m)\u001b[0m\u001b[0;34m\u001b[0m\u001b[0;34m\u001b[0m\u001b[0m\n\u001b[0m\u001b[1;32m    115\u001b[0m         \u001b[0;31m# If requested, strip off blank lines.\u001b[0m\u001b[0;34m\u001b[0m\u001b[0;34m\u001b[0m\u001b[0;34m\u001b[0m\u001b[0m\n\u001b[1;32m    116\u001b[0m         \u001b[0;32mif\u001b[0m \u001b[0mself\u001b[0m\u001b[0;34m.\u001b[0m\u001b[0m_blanklines\u001b[0m \u001b[0;34m==\u001b[0m \u001b[0;34m\"discard\"\u001b[0m\u001b[0;34m:\u001b[0m\u001b[0;34m\u001b[0m\u001b[0;34m\u001b[0m\u001b[0m\n",
            "\u001b[0;31mKeyboardInterrupt\u001b[0m: "
          ]
        }
      ]
    },
    {
      "cell_type": "code",
      "metadata": {
        "id": "uXkA_RQzaoE7"
      },
      "source": [
        "TrainDF[\"Stop\"] = TrainDF[\"Text\"].apply(GetStopwords)\n",
        "TrainDF[\"NumOfStopwords\"] = TrainDF[\"Stop\"].apply(lambda text: len(text))\n",
        "TrainDF[\"Text\"] = TrainDF[\"Text\"].apply(RemoveStopwords)\n",
        "TrainDF.tail()"
      ],
      "execution_count": null,
      "outputs": []
    },
    {
      "cell_type": "markdown",
      "metadata": {
        "id": "o7xpePcnRTMg"
      },
      "source": [
        "## Lemmatization"
      ]
    },
    {
      "cell_type": "code",
      "metadata": {
        "id": "aom4WYuyRarZ"
      },
      "source": [
        "def Lemmatize(text):\n",
        "    Lemmatizer = WordNetLemmatizer()\n",
        "    Words = []\n",
        "    for w in text:\n",
        "        Words.append(Lemmatizer.lemmatize(w))\n",
        "    return Words\n",
        "\n",
        "TestDF[\"Text\"] = TestDF[\"Text\"].apply(Lemmatize)\n",
        "TrainDF[\"Text\"] = TrainDF[\"Text\"].apply(Lemmatize)"
      ],
      "execution_count": 30,
      "outputs": []
    },
    {
      "cell_type": "markdown",
      "metadata": {
        "id": "YeYKT1r_ax7T"
      },
      "source": [
        "# Extra features"
      ]
    },
    {
      "cell_type": "code",
      "metadata": {
        "id": "4mV7zPO0a8tV"
      },
      "source": [
        "# Number of tags\n",
        "TestDF[\"NumOfTags\"] = TestDF[\"Tags\"].apply(lambda text: len(re.findall('<', text)))\n",
        "TrainDF[\"NumOfTags\"] = TrainDF[\"Tags\"].apply(lambda text: len(re.findall('<', text)))"
      ],
      "execution_count": 31,
      "outputs": []
    },
    {
      "cell_type": "code",
      "metadata": {
        "id": "cOepqau5JcUq"
      },
      "source": [
        "# Number of words\n",
        "TestDF[\"NumOfWords\"] = TestDF[\"Text\"].apply(lambda text: len(text))\n",
        "TrainDF[\"NumOfWords\"] = TrainDF[\"Text\"].apply(lambda text: len(text))"
      ],
      "execution_count": 32,
      "outputs": []
    },
    {
      "cell_type": "code",
      "metadata": {
        "id": "t-_NUVPkLdWd"
      },
      "source": [
        "# Number of letters\n",
        "def NumberOfLetters(text):\n",
        "    counter = 0\n",
        "    for w in text:\n",
        "        counter += len(w)\n",
        "    return counter\n",
        "\n",
        "TestDF[\"NumOfLetters\"] = TestDF[\"Text\"].apply(NumberOfLetters)\n",
        "TrainDF[\"NumOfLetters\"] = TrainDF[\"Text\"].apply(NumberOfLetters)"
      ],
      "execution_count": 33,
      "outputs": []
    },
    {
      "cell_type": "code",
      "metadata": {
        "scrolled": false,
        "id": "4WHD4HPQm09h"
      },
      "source": [
        "SaveParquet(TestDF, Path + \"test.preprocessed.parquet\")\n",
        "SaveParquet(TrainDF, Path + \"train.preprocessed.parquet\")"
      ],
      "execution_count": 34,
      "outputs": []
    },
    {
      "cell_type": "markdown",
      "metadata": {
        "id": "NWuizQh3hyd_"
      },
      "source": [
        "# One Hot Encoding"
      ]
    },
    {
      "cell_type": "code",
      "metadata": {
        "id": "2EiRgN_0oPGf"
      },
      "source": [
        "# Load preprocessed data frames\n",
        "# TestDF = ReadParquet(Path + \"test.preprocessed.parquet\")\n",
        "# TrainDF = ReadParquet(Path + \"train.preprocessed.parquet\")"
      ],
      "execution_count": 35,
      "outputs": []
    },
    {
      "cell_type": "code",
      "metadata": {
        "id": "LvvVnVrONBYN"
      },
      "source": [
        "# Я либо чего-то в этой жизни не понимаю, \n",
        "# либо тот, кто придумал OHE, употреблял что-то крайне тяжёлое.\n",
        "# Алгоритм крайне затратный в плане ресурсов ПК.\n",
        "# Вот зачем было для каждого токена делать вектор, в котором \n",
        "# тупо ставить единицу по индексу, равному индексу этого токена в словаре?\n",
        "# Если с таким же успехом можно просто оставлять индекс из этого словаря вместо вектора.\n",
        "# Я, если честно, понимая, насколько огромным получится словарь, \n",
        "# не стал насиловать свои 8Gb RAM и 12Gb RAM Collab'а."
      ],
      "execution_count": 36,
      "outputs": []
    },
    {
      "cell_type": "markdown",
      "metadata": {
        "id": "wWMAkbB5TNe9"
      },
      "source": [
        "# Word2Vec"
      ]
    },
    {
      "cell_type": "code",
      "metadata": {
        "id": "mL-rcs-4TQZH"
      },
      "source": [
        "# Load preprocessed data frames\n",
        "from gensim.models import KeyedVectors\n",
        "TestDF = ReadParquet(Path + \"test.preprocessed.parquet\")\n",
        "TrainDF = ReadParquet(Path + \"train.preprocessed.parquet\")\n",
        "W2V_OurTrain = KeyedVectors.load_word2vec_format(Path + 'W2V_OurTrain.bin', binary = True)\n",
        "W2V_OurTest = KeyedVectors.load_word2vec_format(Path + 'W2V_OurTest.bin', binary = True)"
      ],
      "execution_count": 43,
      "outputs": []
    },
    {
      "cell_type": "code",
      "metadata": {
        "id": "m01vtqqHXJgr"
      },
      "source": [
        "W2V_OurTest = Word2Vec(TestDF[\"Text\"].values, min_count = 1, size = 100, window = 5)\n",
        "W2V_OurTrain = Word2Vec(TrainDF[\"Text\"].values, min_count = 1, size = 100, window = 5)"
      ],
      "execution_count": 38,
      "outputs": []
    },
    {
      "cell_type": "code",
      "metadata": {
        "id": "t5-0xd7h1T6s"
      },
      "source": [
        "W2V_OurTest.wv.save_word2vec_format(Path + 'W2V_OurTest.bin', binary = True)\n",
        "W2V_OurTrain.wv.save_word2vec_format(Path + 'W2V_OurTrain.bin', binary = True)"
      ],
      "execution_count": 39,
      "outputs": []
    },
    {
      "cell_type": "code",
      "metadata": {
        "id": "kOjHTQfam09h"
      },
      "source": [
        "words = sorted(W2V_OurTest.wv.vocab.keys(), \n",
        "               key = lambda word: W2V_OurTest.wv.vocab[word].count, \n",
        "               reverse = True)\n",
        "words[:10]"
      ],
      "execution_count": null,
      "outputs": []
    },
    {
      "cell_type": "code",
      "metadata": {
        "id": "SDjeMDo2m09h"
      },
      "source": [
        "words = sorted(W2V_OurTrain.wv.vocab.keys(), \n",
        "               key = lambda word: W2V_OurTrain.wv.vocab[word].count, \n",
        "               reverse = True)\n",
        "words[:10]"
      ],
      "execution_count": null,
      "outputs": []
    },
    {
      "cell_type": "code",
      "metadata": {
        "id": "AkmLMV8z8F0j"
      },
      "source": [
        "import numpy as np\n",
        "word_vectors = np.array([W2V_OurTrain.wv.get_vector(vector) for vector in words])\n",
        "assert isinstance(word_vectors, np.ndarray)\n",
        "assert word_vectors.shape == (len(words),100)\n",
        "assert np.isfinite(word_vectors).all()"
      ],
      "execution_count": null,
      "outputs": []
    },
    {
      "cell_type": "code",
      "metadata": {
        "id": "RqiPrvvvbWAQ"
      },
      "source": [
        "test_vector = []\n",
        "for i in range(len(TestDF['Text'])):\n",
        "  vector = 0\n",
        "  for w in TestDF['Text'][i]:\n",
        "    try: \n",
        "        vector += W2V_OurTest.wv[w]\n",
        "    except:\n",
        "        continue\n",
        "  test_vector.append(vector)\n",
        "test_vector"
      ],
      "execution_count": null,
      "outputs": []
    },
    {
      "cell_type": "code",
      "metadata": {
        "colab": {
          "base_uri": "https://localhost:8080/"
        },
        "id": "edi7IpiWAElX",
        "outputId": "5f0b2441-3043-4fdf-826e-f8c13828ecda"
      },
      "source": [
        "len(test_vector)"
      ],
      "execution_count": 48,
      "outputs": [
        {
          "output_type": "execute_result",
          "data": {
            "text/plain": [
              "12000"
            ]
          },
          "metadata": {
            "tags": []
          },
          "execution_count": 48
        }
      ]
    },
    {
      "cell_type": "code",
      "metadata": {
        "id": "bRFZRAj7g4v9"
      },
      "source": [
        "train_vector = []\n",
        "for i in range(len(TrainDF['Text'])):\n",
        "  vector = 0\n",
        "  for w in TrainDF['Text'][i]:\n",
        "    try: \n",
        "        vector += W2V_OurTrain.wv[w]\n",
        "    except:\n",
        "        continue\n",
        "  train_vector.append(vector)\n",
        "train_vector"
      ],
      "execution_count": null,
      "outputs": []
    },
    {
      "cell_type": "code",
      "metadata": {
        "id": "MR4Yum8eBjPv"
      },
      "source": [
        "from sklearn.model_selection import train_test_split\n",
        "from sklearn.neighbors import KNeighborsClassifier\n",
        "from sklearn.naive_bayes import GaussianNB\n",
        "from sklearn.model_selection import GridSearchCV\n",
        "y = TrainDF['target']\n",
        "X_train, X_test, y_train, y_test = train_test_split(train_vector, y, test_size=0.2, random_state=666)\n"
      ],
      "execution_count": 62,
      "outputs": []
    },
    {
      "cell_type": "code",
      "metadata": {
        "id": "ZWEp-d7zm09h"
      },
      "source": [
        "from sklearn import svm\n",
        "from sklearn.metrics import recall_score\n",
        "\n",
        "C = 1.0  # = self._alpha in our algorithm\n",
        "model = svm.SVC(kernel='linear', C=C)\n",
        "model.fit(X_train, y_train)\n",
        "y_predict = model.predict(X_test)\n",
        "print(recall_score(y_test, y_predict, average=None))"
      ],
      "execution_count": null,
      "outputs": []
    },
    {
      "cell_type": "code",
      "metadata": {
        "id": "dbYgwdoVXvqT"
      },
      "source": [
        "knn = KNeighborsClassifier().fit(X_train, y_train)\n",
        "acc_knn = np.mean(knn.predict(X_train) == y_train)\n",
        "test_acc_knn = np.mean(knn.predict(X_test) == y_test)\n",
        "print(f\"Train Accuracy: {acc_knn}, Test Accuracy: {test_acc_knn}\")"
      ],
      "execution_count": null,
      "outputs": []
    },
    {
      "cell_type": "code",
      "metadata": {
        "id": "vlR8BqIS6sP_"
      },
      "source": [
        "nb = GaussianNB().fit(X_train, y_train)\n",
        "acc_nb = np.mean(nb.predict(X_train) == y_train)\n",
        "test_acc_nb = np.mean(nb.predict(X_test) == y_test)\n",
        "print(f\"Train Accuracy: {acc_nb}, Test Accuracy: {test_acc_nb}\")"
      ],
      "execution_count": null,
      "outputs": []
    },
    {
      "cell_type": "code",
      "metadata": {
        "id": "cMRMpnzP_ggr"
      },
      "source": [
        "gs = GridSearchCV(knn, param_grid={\"n_neighbors\": range(1,20)})\n",
        "gs.fit(X_train, y_train)\n",
        "#gs.best_params_, gs.best_score_, gs.best_estimator_.n_neighbors\n",
        "best = gs.best_estimator_.n_neighbors\n",
        "print(f\"Grid Search: {gs.best_params_, gs.best_score_, gs.best_estimator_.n_neighbors}\")"
      ],
      "execution_count": null,
      "outputs": []
    },
    {
      "cell_type": "code",
      "metadata": {
        "id": "aBlngOYj_ZpW"
      },
      "source": [
        "knn_new = KNeighborsClassifier(n_neighbors = best).fit(train_vecX_traintor, y_train)\n",
        "acc_knn_new = np.mean(knn_new.predict(X_train) == y_train)\n",
        "test_acc_knn_new = np.mean(knn_new.predict(X_test) == y_test)\n",
        "print(f\"Train Accuracy: {acc_knn_new}, Test Accuracy: {test_acc_knn_new}\")"
      ],
      "execution_count": null,
      "outputs": []
    }
  ]
}